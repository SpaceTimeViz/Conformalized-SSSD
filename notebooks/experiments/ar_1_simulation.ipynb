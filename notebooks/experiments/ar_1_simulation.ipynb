{
 "cells": [
  {
   "cell_type": "markdown",
   "id": "ebbf8e44-f345-49cd-a716-d04af20d209a",
   "metadata": {
    "papermill": {
     "duration": 0.002517,
     "end_time": "2024-07-26T18:03:30.239428",
     "exception": false,
     "start_time": "2024-07-26T18:03:30.236911",
     "status": "completed"
    },
    "tags": []
   },
   "source": [
    "## Basic Settings"
   ]
  },
  {
   "cell_type": "code",
   "execution_count": null,
   "id": "1480a143-39b8-4e25-996e-2f1bb7daa4ca",
   "metadata": {
    "execution": {
     "iopub.execute_input": "2024-07-26T18:03:30.246606Z",
     "iopub.status.busy": "2024-07-26T18:03:30.246072Z",
     "iopub.status.idle": "2024-07-26T18:03:32.124529Z",
     "shell.execute_reply": "2024-07-26T18:03:32.123807Z"
    },
    "papermill": {
     "duration": 1.883672,
     "end_time": "2024-07-26T18:03:32.126093",
     "exception": false,
     "start_time": "2024-07-26T18:03:30.242421",
     "status": "completed"
    },
    "tags": []
   },
   "outputs": [],
   "source": [
    "import os\n",
    "\n",
    "import matplotlib.pyplot as plt\n",
    "import numpy as np\n",
    "import pandas as pd\n",
    "import torch\n",
    "import torch.nn as nn\n",
    "from sklearn.metrics import mean_squared_error\n",
    "from tqdm import tqdm\n",
    "\n",
    "from sssd_cp.core.imputers.SSSDS4Imputer import SSSDS4Imputer\n",
    "from sssd_cp.core.model_specs import create_forecast_mask\n",
    "from sssd_cp.data.dataloader import ArDataLoader\n",
    "from sssd_cp.training.utils import training_loss\n",
    "from sssd_cp.utils.utils import find_repo_root, sampling\n",
    "\n",
    "device = torch.device('cuda' if torch.cuda.is_available() else 'cpu')\n",
    "num_workers = 4"
   ]
  },
  {
   "cell_type": "markdown",
   "id": "9046602e-58d4-40ac-a46e-867704e78c05",
   "metadata": {
    "papermill": {
     "duration": 0.002594,
     "end_time": "2024-07-26T18:03:32.131741",
     "exception": false,
     "start_time": "2024-07-26T18:03:32.129147",
     "status": "completed"
    },
    "tags": []
   },
   "source": [
    "## Parameters"
   ]
  },
  {
   "cell_type": "code",
   "execution_count": null,
   "id": "988776c2-c4b8-4831-95c6-eb92606a1b7b",
   "metadata": {
    "editable": true,
    "slideshow": {
     "slide_type": ""
    },
    "tags": [
     "parameters"
    ]
   },
   "outputs": [],
   "source": [
    "# inference_sample_size\n",
    "m = 1\n",
    "# series_length\n",
    "T = 3"
   ]
  },
  {
   "cell_type": "code",
   "execution_count": null,
   "id": "5d1d0c4d-20bd-4111-bd75-d88916453d2b",
   "metadata": {
    "editable": true,
    "execution": {
     "iopub.execute_input": "2024-07-26T18:03:32.138230Z",
     "iopub.status.busy": "2024-07-26T18:03:32.137879Z",
     "iopub.status.idle": "2024-07-26T18:03:32.142953Z",
     "shell.execute_reply": "2024-07-26T18:03:32.142254Z"
    },
    "papermill": {
     "duration": 0.009909,
     "end_time": "2024-07-26T18:03:32.144253",
     "exception": false,
     "start_time": "2024-07-26T18:03:32.134344",
     "status": "completed"
    },
    "slideshow": {
     "slide_type": ""
    },
    "tags": []
   },
   "outputs": [],
   "source": [
    "std = 1\n",
    "intercept = 0\n",
    "k = 1\n",
    "training_num_series = 10000\n",
    "testing_num_series = 1000\n",
    "coefficients = [0.8]\n",
    "season = None\n",
    "\n",
    "batch_size = 128\n",
    "epochs = 1000\n",
    "\n",
    "seeds = list(range(training_num_series + testing_num_series))\n",
    "model_save_path = f'model_checkpoint_m={m}_T={T}.pth'"
   ]
  },
  {
   "cell_type": "markdown",
   "id": "a77307cc-7be9-422d-94fd-42e512fdf6cb",
   "metadata": {
    "papermill": {
     "duration": 0.004331,
     "end_time": "2024-07-26T18:03:32.617931",
     "exception": false,
     "start_time": "2024-07-26T18:03:32.613600",
     "status": "completed"
    },
    "tags": []
   },
   "source": [
    "## Data Generation\n",
    "- Generate AR(1) data with $\\phi = 0.8$\n",
    "- Training data size: 10000\n",
    "- Testing data size: 1000"
   ]
  },
  {
   "cell_type": "code",
   "execution_count": null,
   "id": "f13df006",
   "metadata": {
    "execution": {
     "iopub.execute_input": "2024-07-26T18:03:32.627776Z",
     "iopub.status.busy": "2024-07-26T18:03:32.627551Z",
     "iopub.status.idle": "2024-07-26T18:03:32.798600Z",
     "shell.execute_reply": "2024-07-26T18:03:32.797953Z"
    },
    "papermill": {
     "duration": 0.177489,
     "end_time": "2024-07-26T18:03:32.799702",
     "exception": false,
     "start_time": "2024-07-26T18:03:32.622213",
     "status": "completed"
    },
    "tags": []
   },
   "outputs": [],
   "source": [
    "data_loader = ArDataLoader(\n",
    "    coefficients=coefficients,\n",
    "    training_num_series=training_num_series,\n",
    "    testing_num_series=testing_num_series,\n",
    "    series_length=T,\n",
    "    std=std,\n",
    "    intercept=intercept,\n",
    "    season=season,\n",
    "    batch_size=batch_size,\n",
    "    device=device,\n",
    "    num_workers=num_workers,\n",
    "    seeds=seeds,\n",
    ")\n",
    "\n",
    "train_loader = data_loader.train_dataloader\n",
    "test_loader = data_loader.test_dataloader"
   ]
  },
  {
   "cell_type": "markdown",
   "id": "375f596b-2d75-4861-9617-2b5709cf6a97",
   "metadata": {
    "papermill": {
     "duration": 0.00431,
     "end_time": "2024-07-26T18:03:32.808674",
     "exception": false,
     "start_time": "2024-07-26T18:03:32.804364",
     "status": "completed"
    },
    "tags": []
   },
   "source": [
    "## Model Configuration"
   ]
  },
  {
   "cell_type": "code",
   "execution_count": null,
   "id": "e92055c7",
   "metadata": {
    "execution": {
     "iopub.execute_input": "2024-07-26T18:03:32.818528Z",
     "iopub.status.busy": "2024-07-26T18:03:32.818108Z",
     "iopub.status.idle": "2024-07-26T18:03:32.826863Z",
     "shell.execute_reply": "2024-07-26T18:03:32.826372Z"
    },
    "papermill": {
     "duration": 0.014977,
     "end_time": "2024-07-26T18:03:32.827966",
     "exception": false,
     "start_time": "2024-07-26T18:03:32.812989",
     "status": "completed"
    },
    "tags": []
   },
   "outputs": [],
   "source": [
    "from sssd_cp.utils.utils import load_yaml_file, calc_diffusion_hyperparams\n",
    "\n",
    "current_dir = os.getcwd()\n",
    "repo_root = find_repo_root(current_dir)\n",
    "\n",
    "configs_dir = os.path.join(repo_root, \"configs\")\n",
    "model_config_path = os.path.join(configs_dir, \"model.yaml\")\n",
    "training_config_path = os.path.join(configs_dir, \"training.yaml\")\n",
    "inference_config_path = os.path.join(configs_dir, \"inference.yaml\")\n",
    "\n",
    "# Load the configuration files\n",
    "model_config = load_yaml_file(model_config_path)\n",
    "training_config = load_yaml_file(training_config_path)\n",
    "inference_config = load_yaml_file(inference_config_path)\n",
    "\n",
    "diffusion_hyperparams = calc_diffusion_hyperparams(**model_config[\"diffusion\"], device=device)\n",
    "display(diffusion_hyperparams)"
   ]
  },
  {
   "cell_type": "code",
   "execution_count": null,
   "id": "c7a841ba",
   "metadata": {
    "execution": {
     "iopub.execute_input": "2024-07-26T18:03:32.879697Z",
     "iopub.status.busy": "2024-07-26T18:03:32.879502Z",
     "iopub.status.idle": "2024-07-26T18:04:32.862984Z",
     "shell.execute_reply": "2024-07-26T18:04:32.862282Z"
    },
    "papermill": {
     "duration": 59.990415,
     "end_time": "2024-07-26T18:04:32.864671",
     "exception": false,
     "start_time": "2024-07-26T18:03:32.874256",
     "status": "completed"
    },
    "tags": []
   },
   "outputs": [],
   "source": [
    "net = SSSDS4Imputer(**model_config.get(\"wavenet\"), device=device)\n",
    "\n",
    "net = net.to(device)\n",
    "net = nn.DataParallel(net)\n",
    "\n",
    "optimizer = torch.optim.Adam(net.parameters(), lr=1e-4)"
   ]
  },
  {
   "cell_type": "markdown",
   "id": "7aef4885-f687-466a-925c-3d7ec01d3e84",
   "metadata": {
    "papermill": {
     "duration": 0.004541,
     "end_time": "2024-07-26T18:04:32.874134",
     "exception": false,
     "start_time": "2024-07-26T18:04:32.869593",
     "status": "completed"
    },
    "tags": []
   },
   "source": [
    "## Model Training"
   ]
  },
  {
   "cell_type": "code",
   "execution_count": null,
   "id": "076ec660",
   "metadata": {
    "execution": {
     "iopub.execute_input": "2024-07-26T18:04:32.885046Z",
     "iopub.status.busy": "2024-07-26T18:04:32.884146Z"
    },
    "papermill": {
     "duration": 5.907336,
     "end_time": "2024-07-26T18:04:38.786014",
     "exception": false,
     "start_time": "2024-07-26T18:04:32.878678",
     "status": "completed"
    },
    "tags": []
   },
   "outputs": [],
   "source": [
    "losses = []\n",
    "\n",
    "epoch_pbar = tqdm(range(epochs), desc=\"Training Epochs\")\n",
    "\n",
    "for epoch in epoch_pbar:\n",
    "    epoch_loss = 0\n",
    "    for batch in train_loader:\n",
    "        batch = batch.to(device)\n",
    "        mask = create_forecast_mask(batch, unseen_length=k, device=device)\n",
    "        loss_mask = ~mask.bool()\n",
    "        batch = batch.permute(0, 2, 1)\n",
    "\n",
    "        optimizer.zero_grad()\n",
    "        loss = training_loss(\n",
    "            model=net,\n",
    "            loss_function=nn.MSELoss(),\n",
    "            training_data=(batch, batch, mask, loss_mask),\n",
    "            diffusion_parameters=diffusion_hyperparams,\n",
    "            generate_only_missing=training_config.get(\"only_generate_missing\"),\n",
    "            device=device,\n",
    "        )\n",
    "        loss.backward()\n",
    "        optimizer.step()\n",
    "\n",
    "        epoch_loss += loss.cpu().detach().numpy() / len(train_loader)\n",
    "\n",
    "    losses.append(epoch_loss)\n",
    "\n",
    "    epoch_pbar.set_postfix(loss=f'{epoch_loss:.4f}')\n",
    "\n",
    "\n",
    "torch.save(net.state_dict(), model_save_path)\n",
    "print(f\"Model saved to {model_save_path}\")\n",
    "print(f\"Finished training for {len(losses)} epochs.\")"
   ]
  },
  {
   "cell_type": "code",
   "execution_count": null,
   "id": "c6bfc6c6",
   "metadata": {
    "papermill": {
     "duration": null,
     "end_time": null,
     "exception": null,
     "start_time": null,
     "status": "completed"
    },
    "tags": []
   },
   "outputs": [],
   "source": [
    "# Plotting the losses\n",
    "plt.figure(figsize=(10, 6))\n",
    "plt.plot(range(1, epochs + 1), losses, marker='o', linestyle='-', color='b', label='Training Loss')\n",
    "\n",
    "# Adding title and labels\n",
    "plt.title('Training Loss Over Epochs')\n",
    "plt.xlabel('Epochs')\n",
    "plt.ylabel('Loss')\n",
    "plt.legend()\n",
    "\n",
    "plt.grid(True)\n",
    "plt.show()"
   ]
  },
  {
   "cell_type": "markdown",
   "id": "137c4f9f-1e27-4f71-a08d-95d287448ed1",
   "metadata": {
    "papermill": {
     "duration": null,
     "end_time": null,
     "exception": null,
     "start_time": null,
     "status": "completed"
    },
    "tags": []
   },
   "source": [
    "## Inference"
   ]
  },
  {
   "cell_type": "code",
   "execution_count": null,
   "id": "a3a90c05",
   "metadata": {
    "papermill": {
     "duration": null,
     "end_time": null,
     "exception": null,
     "start_time": null,
     "status": "completed"
    },
    "tags": []
   },
   "outputs": [],
   "source": [
    "results = []\n",
    "test_data_list = []\n",
    "net.eval()\n",
    "\n",
    "for batch in tqdm(test_loader, desc=\"Processing Batches\"):\n",
    "    batch = batch.to(device)\n",
    "    mask = create_forecast_mask(batch, unseen_length=k, device=device)\n",
    "    batch = batch.permute(0, 2, 1)\n",
    "    \n",
    "    generated_samples = sampling(\n",
    "        net=net,\n",
    "        size=batch.shape,\n",
    "        diffusion_hyperparams=diffusion_hyperparams,\n",
    "        cond=batch,\n",
    "        mask=mask,\n",
    "        sample_size=m,\n",
    "        only_generate_missing=1,\n",
    "        device=device,\n",
    "    )\n",
    "    results.append(generated_samples)\n",
    "    test_data_list.append(batch)"
   ]
  },
  {
   "cell_type": "markdown",
   "id": "712cf9fa-213e-4ea2-829b-a4aff8687915",
   "metadata": {},
   "source": [
    "## Evaluation\n",
    "1. 1st MSE: $E(\\hat{y}_t - y_t)^2$\n",
    "2. 2nd MSE: $E(\\hat{y}_t - \\phi \\cdot y_{t-1})^2$\n",
    "3. Bias: $E(\\hat{y}_t - \\phi \\cdot y_{t-1})$\n",
    "4. Variance: $Var(\\hat{y}_t - \\phi \\cdot y_{t-1})$"
   ]
  },
  {
   "cell_type": "code",
   "execution_count": null,
   "id": "845afa83-8c2a-48c1-b732-4f369e0209ec",
   "metadata": {
    "papermill": {
     "duration": null,
     "end_time": null,
     "exception": null,
     "start_time": null,
     "status": "completed"
    },
    "tags": []
   },
   "outputs": [],
   "source": [
    "mean_results = np.vstack([np.mean(result, axis=0) for result in results]).squeeze()\n",
    "test_data = torch.stack(test_data_list).cpu().numpy().squeeze()\n",
    "test_data.shape"
   ]
  },
  {
   "cell_type": "code",
   "execution_count": null,
   "id": "ad98cf83-f4c1-4c28-9d7b-dd8f4700ef49",
   "metadata": {
    "papermill": {
     "duration": null,
     "end_time": null,
     "exception": null,
     "start_time": null,
     "status": "completed"
    },
    "tags": []
   },
   "outputs": [],
   "source": [
    "# Check dimensions of test_data and mean_results\n",
    "if test_data.ndim == 1 and mean_results.ndim == 1:\n",
    "    # 1-dimensional case\n",
    "    mse_metric_1 = mean_squared_error(test_data, mean_results)\n",
    "    mse_metric_2 = mean_squared_error(test_data * coefficients[0], mean_results)\n",
    "    bias = np.mean(mean_results - test_data * coefficients[0])\n",
    "    var = np.var(mean_results - test_data * coefficients[0])\n",
    "elif test_data.ndim == 2 and mean_results.ndim == 2:\n",
    "    # 2-dimensional case\n",
    "    if k < test_data.shape[1]:\n",
    "        mse_metric_1 = mean_squared_error(test_data[:, -k], mean_results[:, -k])\n",
    "        mse_metric_2 = mean_squared_error(test_data[:, -(k+1)] * coefficients[0], mean_results[:, -k])\n",
    "        bias = np.mean(mean_results[:, -k] - test_data[:, -(k+1)] * coefficients[0])\n",
    "        var = np.var(mean_results[:, -k] - test_data[:, -(k+1)] * coefficients[0])\n",
    "    else:\n",
    "        raise IndexError(f\"k = {k} is out of bounds for array with shape {test_data.shape}\")\n",
    "else:\n",
    "    raise ValueError(\"Inconsistent dimensions between test_data and mean_results\")"
   ]
  },
  {
   "cell_type": "code",
   "execution_count": null,
   "id": "acfc1175-f423-4c49-b2e4-5ef25e490a3f",
   "metadata": {
    "papermill": {
     "duration": null,
     "end_time": null,
     "exception": null,
     "start_time": null,
     "status": "completed"
    },
    "tags": []
   },
   "outputs": [],
   "source": [
    "metrics = {\n",
    "    '1st MSE': [mse_metric_1],\n",
    "    '2nd MSE': [mse_metric_2],\n",
    "    'Bias': [bias],\n",
    "    'Variance': [var]\n",
    "}\n",
    "\n",
    "display(pd.DataFrame(metrics))"
   ]
  }
 ],
 "metadata": {
  "kernelspec": {
   "name": "python3",
   "language": "python",
   "display_name": "Python 3 (ipykernel)"
  },
  "language_info": {
   "codemirror_mode": {
    "name": "ipython",
    "version": 3
   },
   "file_extension": ".py",
   "mimetype": "text/x-python",
   "name": "python",
   "nbconvert_exporter": "python",
   "pygments_lexer": "ipython3",
   "version": "3.10.13"
  },
  "papermill": {
   "default_parameters": {},
   "duration": 69.341765,
   "end_time": "2024-07-26T18:04:38.996079",
   "environment_variables": {},
   "exception": null,
   "input_path": "notebooks/experiments/ar_training_test_min_max_scaling.ipynb",
   "output_path": "notebooks/experiments/ar_training_test_min_max_scaling.ipynb",
   "parameters": {
    "inference_sample_size": 1
   },
   "start_time": "2024-07-26T18:03:29.654314",
   "version": "2.6.0"
  }
 },
 "nbformat": 4,
 "nbformat_minor": 5
}
